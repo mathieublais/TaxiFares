{
 "cells": [
  {
   "cell_type": "markdown",
   "metadata": {},
   "source": [
    "# Taxi Fares Kaggle Challenge\n",
    "\n",
    "This project is to forecast the taxi fares in New York city according to a set of data already provided. This is a Kaggle Challenge.\n"
   ]
  },
  {
   "cell_type": "markdown",
   "metadata": {},
   "source": [
    "## Load the Data\n",
    "\n",
    "Read the data from all the CSV files and append the dataset.\n"
   ]
  },
  {
   "cell_type": "code",
   "execution_count": 1,
   "metadata": {
    "scrolled": true
   },
   "outputs": [
    {
     "name": "stdout",
     "output_type": "stream",
     "text": [
      "The file data_0_500000.csv is read.\n"
     ]
    },
    {
     "data": {
      "text/html": [
       "<div>\n",
       "<style scoped>\n",
       "    .dataframe tbody tr th:only-of-type {\n",
       "        vertical-align: middle;\n",
       "    }\n",
       "\n",
       "    .dataframe tbody tr th {\n",
       "        vertical-align: top;\n",
       "    }\n",
       "\n",
       "    .dataframe thead th {\n",
       "        text-align: right;\n",
       "    }\n",
       "</style>\n",
       "<table border=\"1\" class=\"dataframe\">\n",
       "  <thead>\n",
       "    <tr style=\"text-align: right;\">\n",
       "      <th></th>\n",
       "      <th>key</th>\n",
       "      <th>fare_amount</th>\n",
       "      <th>pickup_datetime</th>\n",
       "      <th>pickup_longitude</th>\n",
       "      <th>pickup_latitude</th>\n",
       "      <th>dropoff_longitude</th>\n",
       "      <th>dropoff_latitude</th>\n",
       "      <th>passenger_count</th>\n",
       "    </tr>\n",
       "  </thead>\n",
       "  <tbody>\n",
       "    <tr>\n",
       "      <th>0</th>\n",
       "      <td>2009-06-15 17:26:21.000000100</td>\n",
       "      <td>4.5</td>\n",
       "      <td>2009-06-15 17:26:21</td>\n",
       "      <td>-73.844311</td>\n",
       "      <td>40.721319</td>\n",
       "      <td>-73.841610</td>\n",
       "      <td>40.712278</td>\n",
       "      <td>1</td>\n",
       "    </tr>\n",
       "    <tr>\n",
       "      <th>1</th>\n",
       "      <td>2010-01-05 16:52:16.000000200</td>\n",
       "      <td>16.9</td>\n",
       "      <td>2010-01-05 16:52:16</td>\n",
       "      <td>-74.016048</td>\n",
       "      <td>40.711303</td>\n",
       "      <td>-73.979268</td>\n",
       "      <td>40.782004</td>\n",
       "      <td>1</td>\n",
       "    </tr>\n",
       "    <tr>\n",
       "      <th>2</th>\n",
       "      <td>2011-08-18 00:35:00.000000490</td>\n",
       "      <td>5.7</td>\n",
       "      <td>2011-08-18 00:35:00</td>\n",
       "      <td>-73.982738</td>\n",
       "      <td>40.761270</td>\n",
       "      <td>-73.991242</td>\n",
       "      <td>40.750562</td>\n",
       "      <td>2</td>\n",
       "    </tr>\n",
       "    <tr>\n",
       "      <th>3</th>\n",
       "      <td>2012-04-21 04:30:42.000000100</td>\n",
       "      <td>7.7</td>\n",
       "      <td>2012-04-21 04:30:42</td>\n",
       "      <td>-73.987130</td>\n",
       "      <td>40.733143</td>\n",
       "      <td>-73.991567</td>\n",
       "      <td>40.758092</td>\n",
       "      <td>1</td>\n",
       "    </tr>\n",
       "    <tr>\n",
       "      <th>4</th>\n",
       "      <td>2010-03-09 07:51:00.000000135</td>\n",
       "      <td>5.3</td>\n",
       "      <td>2010-03-09 07:51:00</td>\n",
       "      <td>-73.968095</td>\n",
       "      <td>40.768008</td>\n",
       "      <td>-73.956655</td>\n",
       "      <td>40.783762</td>\n",
       "      <td>1</td>\n",
       "    </tr>\n",
       "  </tbody>\n",
       "</table>\n",
       "</div>"
      ],
      "text/plain": [
       "                            key  fare_amount     pickup_datetime  \\\n",
       "0 2009-06-15 17:26:21.000000100          4.5 2009-06-15 17:26:21   \n",
       "1 2010-01-05 16:52:16.000000200         16.9 2010-01-05 16:52:16   \n",
       "2 2011-08-18 00:35:00.000000490          5.7 2011-08-18 00:35:00   \n",
       "3 2012-04-21 04:30:42.000000100          7.7 2012-04-21 04:30:42   \n",
       "4 2010-03-09 07:51:00.000000135          5.3 2010-03-09 07:51:00   \n",
       "\n",
       "   pickup_longitude  pickup_latitude  dropoff_longitude  dropoff_latitude  \\\n",
       "0        -73.844311        40.721319         -73.841610         40.712278   \n",
       "1        -74.016048        40.711303         -73.979268         40.782004   \n",
       "2        -73.982738        40.761270         -73.991242         40.750562   \n",
       "3        -73.987130        40.733143         -73.991567         40.758092   \n",
       "4        -73.968095        40.768008         -73.956655         40.783762   \n",
       "\n",
       "   passenger_count  \n",
       "0                1  \n",
       "1                1  \n",
       "2                2  \n",
       "3                1  \n",
       "4                1  "
      ]
     },
     "execution_count": 1,
     "metadata": {},
     "output_type": "execute_result"
    }
   ],
   "source": [
    "import pandas as pd\n",
    "import os, os.path\n",
    "\n",
    "path = 'C:/Users/Mat/Documents/GitHub/TaxiFares/Datasets/'\n",
    "\n",
    "def find_csv_filenames(path, suffix=\".csv\"):\n",
    "    filenames = os.listdir(path)\n",
    "    return [f for f in filenames if f.endswith(suffix)]\n",
    "\n",
    "filenames = find_csv_filenames(path)\n",
    "\n",
    "n = 0 # for testing only\n",
    "df = pd.DataFrame()\n",
    "for filename in filenames:\n",
    "    if n < 1: # for testing only\n",
    "        df = df.append(pd.read_csv(path + filename, index_col = 0))\n",
    "        print(\"The file \" + filename + \" is read.\")\n",
    "        n += 1 # for testing only\n",
    "    else: # for testing only\n",
    "        break # for testing only\n",
    "\n",
    "df.head()"
   ]
  },
  {
   "cell_type": "code",
   "execution_count": 17,
   "metadata": {},
   "outputs": [
    {
     "name": "stdout",
     "output_type": "stream",
     "text": [
      "Total number of records: 500,000\n"
     ]
    }
   ],
   "source": [
    "print(\"Total number of records read: {:,}\".format(len(df)))"
   ]
  },
  {
   "cell_type": "markdown",
   "metadata": {},
   "source": [
    "## Split pickup_datetime into multiple variables\n",
    "\n",
    "Add variables for year, month, date, weekday, hour and holiday."
   ]
  },
  {
   "cell_type": "code",
   "execution_count": 32,
   "metadata": {},
   "outputs": [],
   "source": [
    "# Convert np arrays in datetime format\n",
    "df['key'] = pd.to_datetime(df.iloc[:]['key'])\n",
    "df['pickup_datetime'] = pd.to_datetime(df.iloc[:]['pickup_datetime'])"
   ]
  },
  {
   "cell_type": "code",
   "execution_count": null,
   "metadata": {},
   "outputs": [],
   "source": [
    "import datetime\n",
    "from pandas.tseries.holiday import USFederalHolidayCalendar\n",
    "\n",
    "cal = USFederalHolidayCalendar()\n",
    "calHoliday = cal.holidays(start=df['pickup_datetime'].min(), end=df['pickup_datetime'].max())\n",
    "print(calHoliday)\n",
    "# Create new variables\n",
    "year = []\n",
    "month = []\n",
    "day = []\n",
    "weekday = []\n",
    "hour = []\n",
    "holiday = []\n",
    "for i in range(0, len(df)):\n",
    "    y = df.iloc[i]['pickup_datetime'].year\n",
    "    year.append(y)\n",
    "    m = df.iloc[i]['pickup_datetime'].month\n",
    "    month.append(m)\n",
    "    d = df.iloc[i]['pickup_datetime'].day\n",
    "    day.append(d)\n",
    "    weekday.append(df.iloc[i]['pickup_datetime'].weekday())\n",
    "    hour.append(df.iloc[i]['pickup_datetime'].hour)\n",
    "    if datetime.date(y, m, d) in calHoliday:\n",
    "        isHoliday = True\n",
    "    else: \n",
    "        isHoliday = False\n",
    "    holiday.append(isHoliday)\n",
    "\n",
    "# Add new data to dataframe\n",
    "df['year'] = pd.Series(year, index=df.index)\n",
    "df['month'] = pd.Series(month, index=df.index)\n",
    "df['day'] = pd.Series(day, index=df.index)\n",
    "df['weekday'] = pd.Series(weekday, index=df.index)\n",
    "df['hour'] = pd.Series(hour, index=df.index)\n",
    "df['holiday'] = pd.Series(holiday, index=df.index)\n",
    "\n",
    "df.head()"
   ]
  },
  {
   "cell_type": "code",
   "execution_count": null,
   "metadata": {},
   "outputs": [],
   "source": [
    "df['holiday'].sum(axis=1)"
   ]
  },
  {
   "cell_type": "markdown",
   "metadata": {},
   "source": [
    "## Dummy variables\n",
    "\n",
    "Create binary dummy variables for year, month, day, weekday, timeofday and holidays."
   ]
  },
  {
   "cell_type": "code",
   "execution_count": null,
   "metadata": {},
   "outputs": [],
   "source": [
    "dummy_fields = ['year', 'month', 'day', 'weekday', 'hour']\n",
    "for each in dummy_fields:\n",
    "    dummies = pd.get_dummies(df[each], prefix=each, drop_first=False)\n",
    "    df = pd.concat([df, dummies], axis=1)\n",
    "\n",
    "fields_to_drop = ['key', 'pickup_datetime']\n",
    "data = df.drop(fields_to_drop, axis=1)\n",
    "\n",
    "data.head()"
   ]
  },
  {
   "cell_type": "code",
   "execution_count": null,
   "metadata": {},
   "outputs": [],
   "source": []
  }
 ],
 "metadata": {
  "kernelspec": {
   "display_name": "Python [conda env:dlnd]",
   "language": "python",
   "name": "conda-env-dlnd-py"
  },
  "language_info": {
   "codemirror_mode": {
    "name": "ipython",
    "version": 3
   },
   "file_extension": ".py",
   "mimetype": "text/x-python",
   "name": "python",
   "nbconvert_exporter": "python",
   "pygments_lexer": "ipython3",
   "version": "3.5.0"
  }
 },
 "nbformat": 4,
 "nbformat_minor": 2
}
